{
 "cells": [
  {
   "cell_type": "code",
   "execution_count": 20,
   "id": "68bec9dd",
   "metadata": {},
   "outputs": [],
   "source": [
    "import scanpy as sc\n",
    "import numpy as np\n",
    "import pandas as pd\n",
    "\n",
    "# === Load AnnData objects ===\n",
    "adata_harmony = sc.read_h5ad(\"/root/Desktop/my_pan/workspace/Data/h5ad_output/harmony_corrected_bonemarrow.h5ad\")\n",
    "adata_scvi = sc.read_h5ad(\"/root/Desktop/my_pan/workspace/Data/h5ad_output/bonemarrow_merged_scvi.h5ad\")\n",
    "# adata_seurat = sc.read_h5ad(\"/root/Desktop/my_pan/workspace/Data/h5ad_output/merged_bone_marrow_batches_seurat_pca.h5ad\")\n",
    "adata_scatlasvae = sc.read_h5ad(\"/root/Desktop/my_pan/workspace/Data/h5ad_output/new_merged_bonemarrow_batches_scatlasvae_full.h5ad\")\n",
    "# === Use Harmony clustering (e.g., Leiden) as pseudo celltype ===\n",
    "adata_harmony.obs[\"celltype\"] = adata_harmony.obs[\"leiden\"]\n"
   ]
  },
  {
   "cell_type": "code",
   "execution_count": 21,
   "id": "76b52be8",
   "metadata": {},
   "outputs": [
    {
     "name": "stdout",
     "output_type": "stream",
     "text": [
      "✅ celltype labels copied and saved into new .h5ad files.\n"
     ]
    }
   ],
   "source": [
    "\n",
    "# === Copy celltype labels to other datasets by matching cell names ===\n",
    "# adata_scvi.obs[\"celltype\"] = adata_harmony.obs.loc[adata_scvi.obs_names, \"celltype\"]\n",
    "adata_scatlasvae.obs[\"celltype\"] = adata_harmony.obs.loc[adata_scatlasvae.obs_names, \"celltype\"]\n",
    "# adata_seurat.obs[\"celltype\"] = adata_harmony.obs.loc[adata_seurat.obs_names, \"celltype\"]\n",
    "\n",
    "# === Save updated .h5ad files ===\n",
    "# adata_harmony.write(\"/root/Desktop/my_pan/workspace/Data/h5ad_output/harmony_corrected_bonemarrow_with_celltype.h5ad\")\n",
    "# adata_scvi.write(\"/root/Desktop/my_pan/workspace/Data/h5ad_output/bonemarrow_merged_scvi_with_celltype.h5ad\")\n",
    "# adata_seurat.write(\"/root/Desktop/my_pan/workspace/Data/h5ad_output/merged_bone_marrow_batches_seurat_pca_with_celltype.h5ad\")\n",
    "\n",
    "# === Check if celltype labels are copied correctly ===\n",
    "print(\"✅ celltype labels copied and saved into new .h5ad files.\")\n",
    "\n",
    "\n",
    "adata_scatlasvae.write(\"/root/Desktop/my_pan/workspace/Data/h5ad_output/new_merged_bonemarrow_batches_scatlasvae_full_with_celltype.h5ad\")\n"
   ]
  },
  {
   "cell_type": "code",
   "execution_count": 14,
   "id": "1bfab59a",
   "metadata": {},
   "outputs": [
    {
     "name": "stdout",
     "output_type": "stream",
     "text": [
      "✅ 已从细胞名前缀提取 batch\n"
     ]
    }
   ],
   "source": [
    "adata_scatlasvae.obs[\"batch\"] = adata_scatlasvae.obs_names.str.split(\".\").str[0]\n",
    "print(\"✅ 已从细胞名前缀提取 batch\")"
   ]
  },
  {
   "cell_type": "code",
   "execution_count": 19,
   "id": "973fa7d4",
   "metadata": {},
   "outputs": [],
   "source": [
    "adata_scatlasvae.write(\"/root/Desktop/my_pan/workspace/Data/h5ad_output/new_merged_bonemarrow_batches_scatlasvae_full_with_celltype.h5ad\")"
   ]
  },
  {
   "cell_type": "code",
   "execution_count": null,
   "id": "dc3adc9b",
   "metadata": {},
   "outputs": [],
   "source": [
    "adata_scatlasvae.write(\"/root/Desktop/my_pan/workspace/Data/h5ad_output/bonemarrow_merged_scatlasvae_with_celltype.h5ad\")"
   ]
  },
  {
   "cell_type": "code",
   "execution_count": 6,
   "id": "1741d195",
   "metadata": {},
   "outputs": [
    {
     "name": "stdout",
     "output_type": "stream",
     "text": [
      "✅ Celltype-based benchmark results saved.\n"
     ]
    }
   ],
   "source": [
    "# Benchmark integration results using pseudo celltype labels (e.g., Harmony-derived clustering)\n",
    "\n",
    "import scanpy as sc\n",
    "import numpy as np\n",
    "import pandas as pd\n",
    "from sklearn.metrics import silhouette_score, adjusted_rand_score, normalized_mutual_info_score\n",
    "\n",
    "# Load preprocessed .h5ad files (with celltype from Harmony transferred)\n",
    "data_paths = {\n",
    "    \"Harmony\": \"/root/Desktop/my_pan/workspace/Data/h5ad_output/harmony_corrected_bonemarrow_with_celltype.h5ad\",\n",
    "    \"scVI\": \"/root/Desktop/my_pan/workspace/Data/h5ad_output/bonemarrow_merged_scvi_with_celltype_and_leiden.h5ad\",\n",
    "    # \"Seurat\": \"/root/Desktop/my_pan/workspace/Data/h5ad_output/merged_bone_marrow_batches_seurat_pca_with_celltype.h5ad\"\n",
    "}\n",
    "\n",
    "# Define key mappings\n",
    "embedding_keys = {\n",
    "    \"Harmony\": \"X_pca\",\n",
    "    \"scVI\": \"X_scVI\",\n",
    "    # \"Seurat\": \"X_pca\"\n",
    "}\n",
    "cluster_keys = {\n",
    "    \"Harmony\": \"leiden\",\n",
    "    \"scVI\": \"leiden\",\n",
    "    # \"Seurat\": \"leiden\"\n",
    "}\n",
    "\n",
    "# Benchmark function\n",
    "\n",
    "def benchmark_with_celltype(embedding, celltype_labels, cluster_labels):\n",
    "    results = {}\n",
    "    results[\"Silhouette_celltype\"] = silhouette_score(embedding, celltype_labels) if len(set(celltype_labels)) > 1 else np.nan\n",
    "    results[\"ARI\"] = adjusted_rand_score(celltype_labels, cluster_labels) if len(set(cluster_labels)) > 1 else np.nan\n",
    "    results[\"NMI\"] = normalized_mutual_info_score(celltype_labels, cluster_labels) if len(set(cluster_labels)) > 1 else np.nan\n",
    "    return results\n",
    "\n",
    "# Run benchmark across methods\n",
    "all_results = {}\n",
    "for method, path in data_paths.items():\n",
    "    adata = sc.read_h5ad(path)\n",
    "    embedding = adata.obsm[embedding_keys[method]]\n",
    "    celltypes = adata.obs[\"celltype\"]\n",
    "    clusters = adata.obs[cluster_keys[method]]\n",
    "    all_results[method] = benchmark_with_celltype(embedding, celltypes, clusters)\n",
    "\n",
    "# Convert results to DataFrame\n",
    "results_df = pd.DataFrame(all_results).T\n",
    "results_df.to_csv(\"/root/Desktop/my_pan/workspace/Data/benchmark_out/integration_celltype_benchmark.csv\")\n",
    "print(\"✅ Celltype-based benchmark results saved.\")\n"
   ]
  }
 ],
 "metadata": {
  "kernelspec": {
   "display_name": "harmonypy38",
   "language": "python",
   "name": "python3"
  },
  "language_info": {
   "codemirror_mode": {
    "name": "ipython",
    "version": 3
   },
   "file_extension": ".py",
   "mimetype": "text/x-python",
   "name": "python",
   "nbconvert_exporter": "python",
   "pygments_lexer": "ipython3",
   "version": "3.8.20"
  }
 },
 "nbformat": 4,
 "nbformat_minor": 5
}
