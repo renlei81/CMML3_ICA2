{
 "cells": [
  {
   "cell_type": "code",
   "execution_count": null,
   "id": "7dcd47d2",
   "metadata": {},
   "outputs": [
    {
     "name": "stderr",
     "output_type": "stream",
     "text": [
      "/tmp/ipykernel_225187/4051072248.py:27: FutureWarning: X.dtype being converted to np.float32 from int64. In the next version of anndata (0.9) conversion will not be automatic. Pass dtype explicitly to avoid this warning. Pass `AnnData(X, dtype=X.dtype, ...)` to get the future behavour.\n",
      "  adata = sc.AnnData(df)\n"
     ]
    },
    {
     "name": "stdout",
     "output_type": "stream",
     "text": [
      "Processed BoneMarrow1\n"
     ]
    },
    {
     "name": "stderr",
     "output_type": "stream",
     "text": [
      "/tmp/ipykernel_225187/4051072248.py:27: FutureWarning: X.dtype being converted to np.float32 from int64. In the next version of anndata (0.9) conversion will not be automatic. Pass dtype explicitly to avoid this warning. Pass `AnnData(X, dtype=X.dtype, ...)` to get the future behavour.\n",
      "  adata = sc.AnnData(df)\n"
     ]
    },
    {
     "name": "stdout",
     "output_type": "stream",
     "text": [
      "Processed BoneMarrow2\n"
     ]
    },
    {
     "name": "stderr",
     "output_type": "stream",
     "text": [
      "/tmp/ipykernel_225187/4051072248.py:27: FutureWarning: X.dtype being converted to np.float32 from int64. In the next version of anndata (0.9) conversion will not be automatic. Pass dtype explicitly to avoid this warning. Pass `AnnData(X, dtype=X.dtype, ...)` to get the future behavour.\n",
      "  adata = sc.AnnData(df)\n"
     ]
    },
    {
     "name": "stdout",
     "output_type": "stream",
     "text": [
      "Processed BoneMarrow3\n"
     ]
    },
    {
     "name": "stderr",
     "output_type": "stream",
     "text": [
      "/tmp/ipykernel_225187/4051072248.py:27: FutureWarning: X.dtype being converted to np.float32 from int64. In the next version of anndata (0.9) conversion will not be automatic. Pass dtype explicitly to avoid this warning. Pass `AnnData(X, dtype=X.dtype, ...)` to get the future behavour.\n",
      "  adata = sc.AnnData(df)\n"
     ]
    },
    {
     "name": "stdout",
     "output_type": "stream",
     "text": [
      "Processed BoneMarrowcKit1\n"
     ]
    },
    {
     "ename": "",
     "evalue": "",
     "output_type": "error",
     "traceback": [
      "\u001b[1;31mThe Kernel crashed while executing code in the current cell or a previous cell. \n",
      "\u001b[1;31mPlease review the code in the cell(s) to identify a possible cause of the failure. \n",
      "\u001b[1;31mClick <a href='https://aka.ms/vscodeJupyterKernelCrash'>here</a> for more info. \n",
      "\u001b[1;31mView Jupyter <a href='command:jupyter.viewOutput'>log</a> for further details."
     ]
    }
   ],
   "source": [
    "import os\n",
    "import pandas as pd\n",
    "import scanpy as sc\n",
    "\n",
    "# 设置数据路径（原始 DGE）\n",
    "data_dir = \"/root/Desktop/my_pan/workspace/Data/raw_data/lung_raw\"\n",
    "file_list = [\n",
    "    \"BoneMarrow1_dge.txt.gz\",\n",
    "    \"BoneMarrow2_dge.txt.gz\",\n",
    "    \"BoneMarrow3_dge.txt.gz\",\n",
    "    \"BoneMarrowcKit1_dge.txt.gz\",\n",
    "    \"BoneMarrowcKit2_dge.txt.gz\",\n",
    "    \"BoneMarrowcKit3_dge.txt.gz\"\n",
    "]\n",
    "\n",
    "adatas = []\n",
    "\n",
    "for fname in file_list:\n",
    "    fpath = os.path.join(data_dir, fname)\n",
    "    sample_name = fname.replace(\"_dge.txt.gz\", \"\")\n",
    "    \n",
    "    try:\n",
    "        df = pd.read_csv(fpath, sep=r\"\\s+\", quotechar='\"', engine=\"python\", index_col=0)\n",
    "\n",
    "        # 自动判断是否转置\n",
    "        if df.shape[0] > df.shape[1]:\n",
    "            adata = sc.AnnData(df)\n",
    "        else:\n",
    "            adata = sc.AnnData(df.T)\n",
    "        adata.obs[\"batch\"] = sample_name\n",
    "        adata.var_names_make_unique()\n",
    "        adatas.append(adata)\n",
    "        print(f\"Processed {sample_name}\")\n",
    "    except Exception as e:\n",
    "        print(f\"Failed to process {sample_name}: {e}\")\n",
    "\n",
    "# 合并\n",
    "adata_merged = adatas[0].concatenate(adatas[1:], join=\"outer\", batch_key=\"batch\", index_unique=\"-\")\n",
    "\n",
    "# 保存合并结果\n",
    "output_path = \"/root/Desktop/my_pan/workspace/Data/pipeline_output/bonemarrow_merged_autofix.h5ad\"\n",
    "adata_merged.write(output_path)\n",
    "print(f\"🎉 合并后的 .h5ad 文件已保存为: {output_path}\")\n"
   ]
  },
  {
   "cell_type": "code",
   "execution_count": 17,
   "id": "8289fa1e",
   "metadata": {},
   "outputs": [
    {
     "name": "stdout",
     "output_type": "stream",
     "text": [
      "📐 表达矩阵维度： (541, 15532)\n",
      "🔢 细胞数 (obs)： 541\n",
      "🧬 基因数 (var)： 15532\n",
      "📋 obs 列： []\n",
      "📋 var 列： []\n",
      "🔖 batch 标签： 无 batch\n",
      "📦 obsm keys： []\n"
     ]
    }
   ],
   "source": [
    "import scanpy as sc\n",
    "\n",
    "# 替换为你的实际路径\n",
    "adata = sc.read_h5ad(\"/root/Desktop/my_pan/workspace/Data/h5ad_output/BoneMarrow1_dge.h5ad\")\n",
    "\n",
    "print(\"📐 表达矩阵维度：\", adata.shape)\n",
    "print(\"🔢 细胞数 (obs)：\", adata.n_obs)\n",
    "print(\"🧬 基因数 (var)：\", adata.n_vars)\n",
    "print(\"📋 obs 列：\", list(adata.obs.columns))\n",
    "print(\"📋 var 列：\", list(adata.var.columns))\n",
    "print(\"🔖 batch 标签：\", adata.obs['batch'].unique() if 'batch' in adata.obs else \"无 batch\")\n",
    "print(\"📦 obsm keys：\", list(adata.obsm.keys()))\n",
    "\n"
   ]
  },
  {
   "cell_type": "code",
   "execution_count": 26,
   "id": "60220822",
   "metadata": {},
   "outputs": [
    {
     "name": "stdout",
     "output_type": "stream",
     "text": [
      "AnnData object with n_obs × n_vars = 18697 × 5345\n",
      "Index(['00R_AC107638.2', '0610005C13Rik', '0610007P14Rik', '0610009B22Rik',\n",
      "       '0610009E02Rik'],\n",
      "      dtype='object')\n",
      "Index(['BoneMarrowcKit_1.ACAATAGCGAATCTCGCA',\n",
      "       'BoneMarrowcKit_1.CGAGTAGGGTTTGTAATG',\n",
      "       'BoneMarrowcKit_1.CCATCTTCAAAGAGGGTC',\n",
      "       'BoneMarrowcKit_1.TGCGGACCATCTATTTGC',\n",
      "       'BoneMarrowcKit_1.CTCGCAATGCTTACAATA'],\n",
      "      dtype='object')\n"
     ]
    }
   ],
   "source": [
    "import scanpy as sc\n",
    "adata = sc.read_h5ad(\"/root/Desktop/my_pan/workspace/Data/h5ad_output/BoneMarrowcKit1_dge.h5ad\")\n",
    "print(adata)\n",
    "\n",
    "print(adata.obs_names[:5])   # 打印细胞名（行索引）\n",
    "print(adata.var_names[:5])   # 打印基因名（列索引）\n",
    "\n"
   ]
  },
  {
   "cell_type": "code",
   "execution_count": 24,
   "id": "3eaea9fa",
   "metadata": {},
   "outputs": [
    {
     "name": "stderr",
     "output_type": "stream",
     "text": [
      "/tmp/ipykernel_227917/2625570732.py:16: FutureWarning: X.dtype being converted to np.float32 from int64. In the next version of anndata (0.9) conversion will not be automatic. Pass dtype explicitly to avoid this warning. Pass `AnnData(X, dtype=X.dtype, ...)` to get the future behavour.\n",
      "  adata = sc.AnnData(X=df)\n"
     ]
    },
    {
     "name": "stdout",
     "output_type": "stream",
     "text": [
      "✅ 转置后保存成功：20599 cells × 13177 genes\n"
     ]
    }
   ],
   "source": [
    "import pandas as pd\n",
    "import scanpy as sc\n",
    "from pathlib import Path\n",
    "\n",
    "# 设置路径\n",
    "input_path = \"/root/Desktop/my_pan/workspace/Data/Marrow_csv/BoneMarrowcKit2_dge.csv\"\n",
    "output_path = \"/root/Desktop/my_pan/workspace/Data/h5ad_output/BoneMarrowcKit2_dge.h5ad\"\n",
    "\n",
    "# Step 1: 读取原始 CSV（基因在行，细胞为列）\n",
    "df = pd.read_csv(input_path, index_col=0)\n",
    "\n",
    "# Step 2: 转置（现在是 cell × gene）\n",
    "df = df.T\n",
    "\n",
    "# Step 3: 创建 AnnData 对象\n",
    "adata = sc.AnnData(X=df)\n",
    "\n",
    "# Step 4: 保存为 .h5ad\n",
    "Path(output_path).parent.mkdir(parents=True, exist_ok=True)\n",
    "adata.write(output_path)\n",
    "\n",
    "print(f\"✅ 转置后保存成功：{adata.n_obs} cells × {adata.n_vars} genes\")\n"
   ]
  },
  {
   "cell_type": "code",
   "execution_count": 3,
   "id": "1b1595ff",
   "metadata": {},
   "outputs": [
    {
     "name": "stdout",
     "output_type": "stream",
     "text": [
      "矩阵形状： (15532, 0)\n",
      "行示例（应该是细胞）: Index(['00R_AC107638.2 0 0 0 0 0 0 0 0 0 0 0 0 0 0 0 0 0 0 0 0 0 0 0 0 0 0 0 0 0 0 0 0 0 0 0 0 0 0 0 0 0 0 0 0 1 0 0 0 0 0 0 0 0 0 0 0 0 0 0 0 0 0 0 0 0 0 0 0 0 0 0 0 0 0 0 0 0 0 0 0 0 0 0 0 0 0 0 0 0 0 0 0 0 0 0 0 0 0 0 0 0 0 0 0 0 0 0 0 0 0 0 0 0 0 0 0 0 0 0 0 0 0 0 0 0 0 0 0 0 0 0 0 0 0 0 0 0 0 0 0 0 0 0 0 0 0 0 0 0 0 0 0 0 0 0 0 0 0 0 0 0 0 0 0 0 0 0 0 0 0 0 0 0 0 0 0 0 0 0 0 0 0 0 0 0 0 0 0 0 0 0 0 0 0 0 0 0 0 0 0 0 0 0 0 0 0 0 0 0 0 0 0 0 0 0 0 0 0 0 0 0 0 0 0 0 0 0 0 0 0 0 0 0 0 0 0 0 0 0 0 0 0 0 0 0 0 0 0 0 0 0 0 0 0 0 0 0 0 0 0 0 0 0 0 0 0 0 0 0 0 0 0 0 0 0 0 0 0 0 0 0 0 0 0 0 0 0 0 0 0 0 0 0 0 0 0 0 0 0 0 0 0 0 0 0 0 0 0 0 0 0 0 0 0 0 0 0 0 0 0 0 0 0 0 0 0 0 0 0 0 0 0 0 0 0 0 0 0 0 0 0 0 0 0 0 0 0 0 0 0 0 0 0 0 0 0 0 0 0 0 0 0 0 0 0 0 0 0 0 0 0 0 0 0 0 0 0 0 0 0 0 0 0 0 0 0 0 0 0 0 0 0 0 0 0 0 0 0 0 0 0 0 0 0 0 0 0 0 0 0 0 0 0 0 0 0 0 0 0 0 0 0 0 0 0 0 0 0 0 0 0 0 0 0 0 0 0 0 0 0 0 0 0 0 0 0 0 0 0 0 0 0 0 0 0 0 0 0 0 0 0 0 0 0 0 0 0 0 0 0 0 0 0 0 0 0 0 0 0 0 0 0 0 0 0 0 0 0 0 0 0 0 0 0 0 0 0 0 0 0 0 0 0 0 0 0 0 0 0 0 0 0 0 0 0 0 0 0 0 0 0 0 0 0 0 0 0 0 0 0 0 0 0 0 0 0 0 0 0 0 0',\n",
      "       '0610005C13Rik 0 0 0 0 0 0 0 0 0 0 0 0 0 0 0 0 0 0 0 0 0 0 0 0 0 0 0 0 0 0 0 0 0 0 0 0 0 0 0 0 0 0 0 0 0 0 0 0 0 0 0 0 0 0 0 0 0 0 0 0 0 0 0 0 0 0 0 0 0 0 0 0 0 0 0 0 0 0 0 0 0 0 0 0 0 0 0 0 0 0 0 0 0 0 0 0 0 0 0 0 0 0 0 0 0 0 0 0 0 0 0 0 0 0 0 0 0 0 0 0 0 0 0 0 0 0 0 0 0 0 0 0 0 0 0 0 0 0 0 0 0 0 0 0 0 0 0 0 0 0 0 0 0 0 0 0 0 0 0 0 0 0 0 0 0 0 0 0 0 0 0 0 0 0 0 0 0 0 0 0 0 0 0 0 0 0 0 0 0 0 0 0 0 0 0 0 0 0 0 0 0 0 0 0 0 0 0 0 0 0 0 0 0 0 0 0 0 0 0 0 0 0 0 0 0 0 0 0 0 0 0 0 0 0 0 0 0 0 0 0 0 0 0 0 0 0 0 0 0 0 0 0 0 0 0 0 0 0 0 0 0 0 0 0 0 0 0 0 0 0 0 0 0 0 0 0 0 0 0 0 0 0 0 0 0 0 0 0 0 0 0 0 0 0 0 0 0 0 0 0 0 0 0 0 0 0 0 0 0 0 0 0 0 0 0 0 0 0 0 0 0 0 0 0 0 0 0 0 0 0 0 0 0 0 0 0 0 0 0 0 0 0 0 0 0 0 0 0 0 0 0 0 0 0 0 0 0 0 0 0 0 0 0 0 0 0 0 0 0 0 0 0 0 0 0 0 0 0 0 0 0 0 0 0 0 0 0 0 0 0 0 0 0 0 0 0 0 0 0 0 0 0 0 0 0 0 0 0 0 0 0 0 0 0 0 0 0 0 0 0 0 0 0 0 0 0 0 0 0 0 0 0 0 0 0 0 0 0 0 0 0 0 0 0 0 0 0 0 0 0 0 0 0 0 0 0 0 0 0 0 0 0 0 0 0 0 0 0 0 0 0 0 0 0 0 0 0 0 0 0 0 0 0 0 0 0 0 0 0 0 0 0 0 0 0 0 0 0 0 0 0 0 0 0 0 0 0 0 0 0 0 0 0 0 0 0 0 0 0 0 0 0 0 0 0 0 0 0 0 0 0 0 0 0 0 0 0 0 0 0 0',\n",
      "       '0610007P14Rik 0 0 1 0 0 0 0 0 0 0 0 0 0 0 0 3 0 1 0 1 0 0 1 0 0 1 0 0 2 0 0 0 0 0 0 0 0 0 0 0 0 0 0 0 0 0 0 0 0 0 0 0 0 1 1 1 0 0 0 0 0 0 0 0 0 0 0 0 0 0 0 0 0 0 0 0 0 0 0 0 0 0 0 0 0 0 0 0 0 0 0 0 1 0 0 1 0 0 0 0 0 0 0 0 0 0 0 0 0 0 0 0 0 1 0 0 0 0 0 0 0 0 0 0 0 0 0 0 0 0 0 0 0 0 0 0 0 0 0 0 1 0 0 0 0 0 0 0 0 0 0 1 0 0 0 0 0 0 0 0 0 0 0 0 0 0 0 1 0 0 0 0 0 0 0 0 0 0 0 0 0 0 0 0 0 0 0 0 0 0 0 0 0 0 0 0 0 0 0 0 0 0 0 0 0 0 0 0 0 0 0 0 0 0 0 1 0 0 0 0 0 0 0 0 0 0 0 0 0 0 0 0 0 0 1 0 0 0 0 0 0 0 0 0 0 1 0 0 0 0 0 0 0 0 0 0 0 0 0 0 0 0 0 0 0 0 0 0 0 0 0 0 0 0 0 0 0 0 0 0 0 0 0 0 0 0 0 0 0 0 0 0 0 0 0 0 0 0 0 0 0 0 0 0 0 0 0 0 0 0 0 0 0 0 0 0 0 0 0 0 0 0 0 0 0 0 0 0 0 0 0 0 0 0 0 0 0 0 0 0 0 0 0 0 0 0 0 0 0 0 0 0 0 0 0 0 0 0 0 0 0 0 0 0 0 0 0 0 0 0 0 0 0 0 0 0 0 0 0 0 0 0 1 0 0 0 0 0 0 0 0 0 0 0 0 0 0 0 0 0 0 0 0 0 0 0 0 0 0 0 0 0 0 0 0 0 0 0 0 0 0 0 0 0 1 0 0 0 0 0 0 0 0 0 0 0 1 0 0 0 0 0 0 0 0 0 0 0 0 0 0 0 0 0 0 0 0 0 0 0 0 0 0 0 0 0 0 0 0 0 0 0 0 0 0 0 0 0 0 0 0 0 0 0 0 0 0 0 0 0 0 0 0 0 0 0 0 0 0 0 0 0 0 0 0 0 0 0 0 0 0 0 0 0 0 0 0 0 0 0 0 0 0 1 0 0 0 0 0 0 0 0 0 0 0 0 0 0 0 0 0',\n",
      "       '0610009B22Rik 0 0 0 0 0 0 0 0 1 0 1 0 0 0 1 0 0 0 0 1 0 0 0 0 0 0 0 0 0 0 0 0 0 0 0 0 0 0 0 0 0 0 0 0 0 0 0 0 0 0 0 0 0 0 0 0 0 0 0 0 0 0 0 0 0 0 0 0 0 0 0 0 0 0 0 0 0 1 0 0 0 0 0 0 0 0 0 0 0 0 0 0 0 0 0 0 0 0 0 0 0 0 0 0 0 0 0 0 0 0 0 0 0 0 0 0 1 0 0 0 0 0 0 0 0 0 0 0 0 0 0 0 0 0 0 0 0 0 0 0 0 0 0 0 0 0 0 0 0 0 0 0 0 0 0 0 0 0 0 0 0 0 0 0 0 0 0 0 0 0 0 0 0 0 0 0 0 0 0 0 0 1 0 0 0 0 0 1 0 1 0 0 0 0 0 0 0 0 0 0 0 0 0 0 0 0 0 0 0 0 0 0 0 0 0 0 0 0 0 0 2 0 0 0 0 0 0 0 0 0 0 0 0 0 0 0 0 0 0 0 0 0 0 0 0 0 0 0 0 0 0 0 0 0 0 0 0 0 0 0 0 1 0 0 0 0 0 0 0 0 0 0 0 0 0 0 0 0 0 0 0 0 0 0 0 0 0 0 0 0 0 0 0 0 0 0 0 0 1 1 0 0 0 0 0 0 0 0 0 0 0 0 0 0 0 0 0 0 0 0 0 0 0 0 0 0 0 0 0 0 0 0 0 0 0 0 0 1 0 0 0 0 0 0 0 0 0 0 0 0 0 0 0 0 0 0 0 0 0 0 0 0 0 0 0 0 0 0 0 0 0 0 0 0 0 0 0 0 0 0 0 0 0 0 0 0 1 0 0 0 0 0 0 0 0 0 0 0 0 0 0 0 0 0 0 0 0 0 0 0 0 0 0 0 0 0 0 0 0 0 0 0 0 0 0 0 0 0 0 0 0 0 0 0 0 0 0 0 0 0 0 0 0 0 0 0 0 0 0 0 0 0 0 0 0 0 0 0 0 0 0 0 0 0 0 0 0 0 0 0 0 0 0 0 0 0 0 0 0 0 0 0 0 0 0 0 0 0 0 0 0 0 0 0 0 0 0 0 0 0 0 0 0 0 0 0 0 0 0 0 0 0 0 0 0 0 0 0 0 0 0 0 0 0 0 0 1 0 0 0 0 1 0 0 0 0 0 0 0 0 0',\n",
      "       '0610009L18Rik 0 0 1 0 0 0 0 0 0 0 0 0 0 0 0 0 0 0 0 0 0 0 0 0 0 0 1 0 1 0 0 0 0 0 0 0 0 0 0 0 0 0 0 0 0 0 0 0 0 0 1 0 0 0 0 0 0 0 0 0 0 0 0 0 0 0 0 0 0 0 0 0 0 0 0 0 0 0 0 0 0 0 0 0 0 0 0 0 0 0 0 0 0 0 0 0 0 0 0 0 0 0 0 0 0 0 0 0 0 0 0 0 0 0 0 0 0 0 0 0 0 0 0 0 0 0 0 0 0 0 0 0 0 0 0 0 0 0 0 0 0 0 0 0 0 0 0 0 0 0 1 0 0 0 0 0 0 0 0 0 0 0 0 0 0 0 0 0 0 0 0 0 0 0 0 0 0 0 0 0 0 0 0 0 0 0 0 0 0 0 0 0 0 0 0 0 0 0 0 0 0 0 0 0 0 0 0 0 0 0 0 0 0 0 0 0 0 0 0 0 0 0 0 0 0 0 0 0 0 0 0 0 0 0 0 0 0 0 0 0 0 0 0 0 0 0 0 0 0 0 0 0 0 0 0 0 0 0 0 0 0 0 0 0 0 0 0 0 0 0 0 0 0 0 0 0 0 0 0 0 0 0 0 0 0 0 0 0 0 0 0 0 0 0 0 0 0 0 0 0 0 0 0 0 0 0 0 0 0 0 0 0 0 0 0 0 0 0 0 0 0 0 0 0 0 0 0 0 0 0 0 0 0 0 0 0 0 0 0 0 0 0 0 0 0 0 0 0 0 0 0 0 0 0 0 0 0 0 0 0 0 0 0 0 0 0 0 0 0 0 0 0 0 0 0 0 0 0 0 0 0 0 0 0 0 0 0 0 0 0 0 0 0 0 0 0 0 0 0 0 0 0 0 1 0 0 0 0 0 0 0 0 0 0 0 0 0 0 0 0 0 0 0 0 0 0 0 0 0 0 0 0 0 0 0 0 0 0 0 0 0 0 0 0 0 0 0 0 0 0 0 0 0 0 0 0 0 0 0 0 0 0 0 0 0 0 0 0 0 0 0 0 0 0 0 0 0 0 0 0 0 0 0 0 0 0 0 0 0 0 0 0 0 0 0 0 0 0 0 0 0 0 0 0 1 0 0 0 0 0 0 0 0 0 0 0 0 0 0 0 0 0 0 0 0 0 0 0 0 0 0 0 0 0 0 0 0 0 0 0 0'],\n",
      "      dtype='object', name='BoneMarrow_1.AAGCGGAGGACTGTGGTA \"BoneMarrow_1.CCGACGGGTACATAGTCG\" \"BoneMarrow_1.TAGAGACAACAACAAAGT\" \"BoneMarrow_1.AGGACTATCTCTACCTGA\" \"BoneMarrow_1.TATGTAACTTATTCACTT\" \"BoneMarrow_1.AAGCGGATCTCTTGCAAT\" \"BoneMarrow_1.AAGCGGATCTCTTCGTAA\" \"BoneMarrow_1.TGATCACGTATTTCTACC\" \"BoneMarrow_1.TGCAATAGGGTCGGACAT\" \"BoneMarrow_1.ATCTCTAAGCGGAAGTAC\" \"BoneMarrow_1.AAGCGGCCAGACAAGCGG\" \"BoneMarrow_1.AAGCGGATCTCTCACAAG\" \"BoneMarrow_1.TGCGGAGAGATCACCTGA\" \"BoneMarrow_1.GGACATGGGTTTACACCC\" \"BoneMarrow_1.CCTAGATATTGTTGAAGC\" \"BoneMarrow_1.AGTCGTGCCTAGGAGATC\" \"BoneMarrow_1.TAGCATAGGACTAGGACT\" \"BoneMarrow_1.ACAATAGAACGCAAAGTT\" \"BoneMarrow_1.AGTTTACTTCTGCTTCTG\" \"BoneMarrow_1.TATGTACGCACCGTATAC\" \"BoneMarrow_1.ACGAGCATGGCGTTCCGC\" \"BoneMarrow_1.ACTTATCGGCAGAAGTAC\" \"BoneMarrow_1.ACAATAATCAACGTAATG\" \"BoneMarrow_1.GGACATTACTTCGGGCGA\" \"BoneMarrow_1.CTGTGTCTCGCAGAGGAG\" \"BoneMarrow_1.CCTAGAGTCGGTATTCCA\" \"BoneMarrow_1.CAAAGTAGGACTTAGTCG\" \"BoneMarrow_1.CAACAAATGCTTCGCACC\" \"BoneMarrow_1.GCGAATGATCTTTCAAAG\" \"BoneMarrow_1.AACCTATGATCACGAGTA\" \"BoneMarrow_1.GCTCAACGAGTAGCTCAA\" \"BoneMarrow_1.ACTTATACTTATGTCGGT\" \"BoneMarrow_1.AATAAATAGAGAGGACAT\" \"BoneMarrow_1.CCGCTAGCCTAGGCCTAG\" \"BoneMarrow_1.GCGAATTCAAAGAATAAA\" \"BoneMarrow_1.GCCCTCGCGAATCGAGTA\" \"BoneMarrow_1.GAGATCGCTGTGATGGCG\" \"BoneMarrow_1.CCAGACGCTCAATAAGGG\" \"BoneMarrow_1.CATCCCCAAAGTGGTACA\" \"BoneMarrow_1.TAGCATTCGTAATCTACC\" \"BoneMarrow_1.CCGCTATCACTTGCTCAA\" \"BoneMarrow_1.GGACATGCGAATCTGTGT\" \"BoneMarrow_1.GGCTGCCTCCATAGTCGT\" \"BoneMarrow_1.TAAGGGTCTACCGCCCTC\" \"BoneMarrow_1.AGGACTTGAAGCGTCGGT\" \"BoneMarrow_1.CCGACGTACTTCGTAATG\" \"BoneMarrow_1.ACCTGAACTTATAAAACG\" \"BoneMarrow_1.GCCCTCTCTACCTAAGGG\" \"BoneMarrow_1.TGCGGAAGCGAGACAATA\" \"BoneMarrow_1.ATTTGCCGCTTGTTGGAC\" \"BoneMarrow_1.GCGAATGTAATGTGTCAC\" \"BoneMarrow_1.CAACAATTTAGGGCGTCC\" \"BoneMarrow_1.AAGCGGTTGGACTTGGAC\" \"BoneMarrow_1.CGCACCAGGGTCGAGATC\" \"BoneMarrow_1.CTGTGTAGGACTCCATCT\" \"BoneMarrow_1.ACACCCTCGTAAGCTGTG\" \"BoneMarrow_1.GTCGGTACGTTGGTATAC\" \"BoneMarrow_1.ACACCCAGATGGCGCTTG\" \"BoneMarrow_1.AAAGTTGGGTTTTGCAAT\" \"BoneMarrow_1.CTCCATCACAAGCTGTGT\" \"BoneMarrow_1.AACCTATGGATGTCTACC\" \"BoneMarrow_1.GCAGGATCGTAAACACCC\" \"BoneMarrow_1.CAAAGTGTATACTCAAAG\" \"BoneMarrow_1.CTTCTGGGCTGCAGGGTC\" \"BoneMarrow_1.ATCAACGCTCAACGTATT\" \"BoneMarrow_1.CAACAAGCCCTCACCTGA\" \"BoneMarrow_1.CCGCTAGCAGGACTGAAA\" \"BoneMarrow_1.CTCCATTGAAGCTGTGCG\" \"BoneMarrow_1.TCGTAATCACTTACGTTG\" \"BoneMarrow_1.CCTAGAGACACTTAAGGG\" \"BoneMarrow_1.TTAACTGCGAATCAAAGT\" \"BoneMarrow_1.GCTCAACCATCTTTAACT\" \"BoneMarrow_1.TTCCGCGCCTAGTGTCAC\" \"BoneMarrow_1.CTGAAAATCTCTCGAGTA\" \"BoneMarrow_1.GCGTCCACTTATCCTAGA\" \"BoneMarrow_1.TCGTAACGCACCCCGCTA\" \"BoneMarrow_1.GCTCAACCATCTGATCTT\" \"BoneMarrow_1.CCTAGACTGTGTCGCACC\" \"BoneMarrow_1.TGGATGATCTCTGAACGC\" \"BoneMarrow_1.TAGTCGCGTATTCATGAT\" \"BoneMarrow_1.TACTTCTTCATACGGCAG\" \"BoneMarrow_1.TCACTTCTCCATGTCGGT\" \"BoneMarrow_1.TCGGGTGGACATCATCCC\" \"BoneMarrow_1.CATCCCACAATATTCCGC\" \"BoneMarrow_1.TAAGGGATCAACCTCCAT\" \"BoneMarrow_1.AAAGTTACGAGCTCGGGT\" \"BoneMarrow_1.TTGGACGGCTGCATTCCA\" \"BoneMarrow_1.AGGACTCAACAATTAACT\" \"BoneMarrow_1.AGGACTCAACAAGATCTT\" \"BoneMarrow_1.ACGTTGCGGCAGCGAGTA\" \"BoneMarrow_1.TTCATAGCAGGACCTAGA\" \"BoneMarrow_1.AAAACGCATCCCACGTTG\" \"BoneMarrow_1.ATTTGCGCGAATGAGATC\" \"BoneMarrow_1.GAATTAATCTCTGAGATC\" \"BoneMarrow_1.GCAGGAGAATTATCTACC\" \"BoneMarrow_1.CAAAGTTAGAGAAGGGTC\" \"BoneMarrow_1.GGCTGCGCCTAGCTGAAA\" \"BoneMarrow_1.GCGAATGAGGAGATGCTT\" \"BoneMarrow_1.AAAACGTTGGACGTGGTA\" \"BoneMarrow_1.AAGCGGAACCTAGTAATG\" \"BoneMarrow_1.GTCGGTGAGATCAAAGTT\" \"BoneMarrow_1.GTTGCCTGAAGCCAAAGT\" \"BoneMarrow_1.GGTACACCAGACATGCTT\" \"BoneMarrow_1.ATTCCACGTATTAGGACT\" \"BoneMarrow_1.AAAGTTGAATTATAGTCG\" \"BoneMarrow_1.AACGCCCGAGTAGTCCCG\" \"BoneMarrow_1.TAGTCGGGACATTAAGGG\" \"BoneMarrow_1.GGTACATACTTCTGCGGA\" \"BoneMarrow_1.CCGACGTGGATGGGCTGC\" \"BoneMarrow_1.CGCACCGCGAATAGGACT\" \"BoneMarrow_1.ACCTGATACTTCCCGACG\" \"BoneMarrow_1.TGTCACTACTTCCTCGCA\" \"BoneMarrow_1.TGATCAATACAGCAACAA\" \"BoneMarrow_1.TGCGGATTAACTCAAAGT\" \"BoneMarrow_1.GCTCAAGCAGGAGCTCAA\" \"BoneMarrow_1.GCAGGAGGACATAACGCC\" \"BoneMarrow_1.AAAACGCAAAGTATTCCA\" \"BoneMarrow_1.AATAAAATTCCAGTATAC\" \"BoneMarrow_1.TAAGGGGAGATCTACTTC\" \"BoneMarrow_1.GGGCGAGCGTCCACACCC\" \"BoneMarrow_1.ATGGCGTGAAGCGTTGCC\" \"BoneMarrow_1.TTGGACTCAAAGACCTGA\" \"BoneMarrow_1.CCGACGTATGTACATCCC\" \"BoneMarrow_1.TTCATAAAGTACAAAGTT\" \"BoneMarrow_1.ATACAGTCGGGTATCTCT\" \"BoneMarrow_1.TATGTACATCCCAGGGTC\" \"BoneMarrow_1.GGACATAAGTACCCGACG\" \"BoneMarrow_1.GAGATCGATCTTTGTGCG\" \"BoneMarrow_1.CCGCTAACGTTGCGTGGC\" \"BoneMarrow_1.ATCTCTACCTGACATGAT\" \"BoneMarrow_1.TATGTATGAAGCCAAAGT\" \"BoneMarrow_1.CCGACGGTCCCGCGCTTG\" \"BoneMarrow_1.GCTGTGCCTTTCAAGTAC\" \"BoneMarrow_1.CATGATACCTGATCAAAG\" \"BoneMarrow_1.AAGCGGAGCGAGAAGTAC\" \"BoneMarrow_1.AAAGTTCACAAGAAAGTT\" \"BoneMarrow_1.CACAAGTTAACTCGCTTG\" \"BoneMarrow_1.ATGCTTTGGATGCACAAG\" \"BoneMarrow_1.GTATACGTATACCTGAAA\" \"BoneMarrow_1.ACAATAATCTCTAACGCC\" \"BoneMarrow_1.CGGCAGACGAGCCAACAA\" \"BoneMarrow_1.CGGCAGATGGCGTTGGAC\" \"BoneMarrow_1.ACTTATCCGACGCAACAA\" \"BoneMarrow_1.AAGCGGCAACAATGGATG\" \"BoneMarrow_1.AGATGGAGTTTAAACCTA\" \"BoneMarrow_1.CTCCATATCAACAGATGG\" \"BoneMarrow_1.AACCTATGGATGGCAGGA\" \"BoneMarrow_1.GCCCTCGTGGTAAGTCGT\" \"BoneMarrow_1.AAGCGGCCGCTAGGGTTT\" \"BoneMarrow_1.AAGCGGCATGATGCAGGA\" \"BoneMarrow_1.CAAAGTTCGTAATAGCAT\" \"BoneMarrow_1.TGAAGCGGGTTTGTGGTA\" \"BoneMarrow_1.CATCCCAAGTACACGAGC\" \"BoneMarrow_1.TCGTAAAAGCGGCTGTGT\" \"BoneMarrow_1.TAGCATATGCTTCAAAGT\" \"BoneMarrow_1.TGCGGAAGTCGTGTCCCG\" \"BoneMarrow_1.CCTAGAATCAACATCTCT\" \"BoneMarrow_1.CCGCTAGAACGCTCAAAG\" \"BoneMarrow_1.GCTCAAGCGAATTCGGGT\" \"BoneMarrow_1.AGGGTCATCAACCACAAG\" \"BoneMarrow_1.GCCCTCCGCACCGAATTA\" \"BoneMarrow_1.TGAAGCACAATAATGCTT\" \"BoneMarrow_1.GCCCTCCGAGTATTAACT\" \"BoneMarrow_1.CATGATGATCTTAATAAA\" \"BoneMarrow_1.CTCCATAAGTACTCAAAG\" \"BoneMarrow_1.CTTCTGAGTCGTCATCCC\" \"BoneMarrow_1.TATGTAGAGGAGTCTACC\" \"BoneMarrow_1.CTGTGTCGCTTGGTCGGT\" \"BoneMarrow_1.AAGCGGAGATGGCCTTTC\" \"BoneMarrow_1.CATCCCGTCGGTACTTAT\" \"BoneMarrow_1.AAGCGGTGCAATCATGAT\" \"BoneMarrow_1.ACGTTGTGTCACAGATGG\" \"BoneMarrow_1.TCGGGTTACTTCAAGCGG\" \"BoneMarrow_1.GAGGAGGCCTAGTATGTA\" \"BoneMarrow_1.AAGCGGGTTGCCCGAGTA\" \"BoneMarrow_1.ATACAGGATCTTGCCTAG\" \"BoneMarrow_1.GACACTTCGGGTCCAGAC\" \"BoneMarrow_1.TACTTCTGTCACCTCGCA\" \"BoneMarrow_1.CGCACCGCTCAATGTGCG\" \"BoneMarrow_1.ACGAGCGTCGGTGGTACA\" \"BoneMarrow_1.CCTAGAGCTCAAGCCTAG\" \"BoneMarrow_1.GTAATGTAGAGAGCCTAG\" \"BoneMarrow_1.AACCTATGATCAATCTCT\" \"BoneMarrow_1.GTAATGTAGTCGTCGGGT\" \"BoneMarrow_1.GCTCAAACTTATTTAACT\" \"BoneMarrow_1.TTCATAACAATAACACCC\" \"BoneMarrow_1.GCTGTGCTTCTGATCAAC\" \"BoneMarrow_1.TATTGTTTCCGCCACAAG\" \"BoneMarrow_1.ATGCTTGGTACATGCGGA\" \"BoneMarrow_1.AGGACTGGGCGAACAATA\" \"BoneMarrow_1.GGCTGCCTCCATCCGACG\" \"BoneMarrow_1.AGGACTTCACTTGATCTT\" \"BoneMarrow_1.AGGACTTCACTTTTAACT\" \"BoneMarrow_1.CATGATCGTATTATTCCA\" \"BoneMarrow_1.ATGGCGCTTCTGGGGCGA\" \"BoneMarrow_1.CGTGGCCAAAGTATGCTT\" \"BoneMarrow_1.CCAGACAGCGAGCATGAT\" \"BoneMarrow_1.CTCGCATAGCATCTCCAT\" \"BoneMarrow_1.GAATTAGCCTAGGCAGGA\" \"BoneMarrow_1.TAGTCGGGGTTTAGGACT\" \"BoneMarrow_1.TGGATGACTTATTACTTC\" \"BoneMarrow_1.GCTCAAACTTATGATCTT\" \"BoneMarrow_1.GCCCTCCGAGTAGATCTT\" \"BoneMarrow_1.GAATTATATGTACAACAA\" \"BoneMarrow_1.CTGTGTTAGCATAAGTAC\" \"BoneMarrow_1.CGCACCTTTAGGTTCATA\" \"BoneMarrow_1.TGATCAACGTTGACTTAT\" \"BoneMarrow_1.ACGTTGAGATGGCGAGTA\" \"BoneMarrow_1.GGACATACTTATATGGCG\" \"BoneMarrow_1.TGATCAGGCTGCGGGCGA\" \"BoneMarrow_1.TTAACTGGCTGCAGGACT\" \"BoneMarrow_1.GATCTTGAATTAGAACGC\" \"BoneMarrow_1.AAGCGGAGGACTTTAACT\" \"BoneMarrow_1.ATACAGCCGACGTATTGT\" \"BoneMarrow_1.GTGGTAGCTCAAGGACAT\" \"BoneMarrow_1.TTAACTTAAGGGGCCCTC\" \"BoneMarrow_1.CTCGCACTGAAACAAAGT\" \"BoneMarrow_1.GCGAATTACTTCGTCGGT\" \"BoneMarrow_1.CGCTTGTTTAGGCGGCAG\" \"BoneMarrow_1.GGACATAGGGTCGTTGCC\" \"BoneMarrow_1.CCTAGACTCCATTCTACC\" \"BoneMarrow_1.TGGATGACAATAAGTCGT\" \"BoneMarrow_1.GTGGTACTCCATCTTCTG\" \"BoneMarrow_1.ATGGCGTGTGCGTACTTC\" \"BoneMarrow_1.TGCGGATTCCGCAAGCGG\" \"BoneMarrow_1.GACACTAACCTATCGGGT\" \"BoneMarrow_1.TACTTCTCGTAACGCTTG\" \"BoneMarrow_1.CCGACGGAACGCATCTCT\" \"BoneMarrow_1.CGCTTGAATAAAACAATA\" \"BoneMarrow_1.ACGTTGCCTTTCGAACGC\" \"BoneMarrow_1.GGCTGCAAAACGATTCCA\" \"BoneMarrow_1.AAGCGGGAACGCGAGATC\" \"BoneMarrow_1.CATGATCCTTTCTGTGCG\" \"BoneMarrow_1.ACGAGCTGTGCGTTCATA\" \"BoneMarrow_1.TAGAGAGATCTTCATCCC\" \"BoneMarrow_1.AGGACTCGTATTTCAAAG\" \"BoneMarrow_1.AACCTAGGGCGAAATAAA\" \"BoneMarrow_1.CACAAGGGGTTTTCAAAG\" \"BoneMarrow_1.TGAAGCTCGGGTAACGCC\" \"BoneMarrow_1.TACTTCAATAAAGCCTAG\" \"BoneMarrow_1.TGATCAAGTCGTTTAACT\" \"BoneMarrow_1.AGGGTCACAATAGGACAT\" \"BoneMarrow_1.AACGCCCCTTTCTATTGT\" \"BoneMarrow_1.ATTTGCATACAGAGCGAG\" \"BoneMarrow_1.ACACCCTTCCGCCCAGAC\" \"BoneMarrow_1.GAACGCGCGTCCTTTAGG\" \"BoneMarrow_1.GGACATGAATTATCTACC\" \"BoneMarrow_1.CCGACGACACCCAACGCC\" \"BoneMarrow_1.CGCTTGCTGAAAAGTTTA\" \"BoneMarrow_1.AAGCGGAGGACTGATCTT\" \"BoneMarrow_1.CTCCATTGGATGTCTACC\" \"BoneMarrow_1.GCCCTCACGTTGTTGGAC\" \"BoneMarrow_1.CAACAAGGCTGCCTGTGT\" \"BoneMarrow_1.GTTGCCGCCTAGATTCCA\" \"BoneMarrow_1.ACAATAAGATGGACTTAT\" \"BoneMarrow_1.TAGTCGAAGTACGTGGTA\" \"BoneMarrow_1.TGAAGCCTTCTGCCGACG\" \"BoneMarrow_1.CCGCTAGCGAATATTTGC\" \"BoneMarrow_1.GTGGTAGCGTCCTCTACC\" \"BoneMarrow_1.TGATCAAGTCGTGATCTT\" \"BoneMarrow_1.TGTGCGGCGTCCTTAACT\" \"BoneMarrow_1.CTCCATTATGTAGATCTT\" \"BoneMarrow_1.CCGCTACGCACCACGAGC\" \"BoneMarrow_1.AAGCGGCATCCCTCAAAG\" \"BoneMarrow_1.ATCTCTGGCTGCGAGATC\" \"BoneMarrow_1.ACTTATCGTATTGTCCCG\" \"BoneMarrow_1.AAGTACGACACTAATAAA\" \"BoneMarrow_1.AAGTACGCGAATGCGTCC\" \"BoneMarrow_1.ATTCCAGCAGGAGCCTAG\" \"BoneMarrow_1.CGTATTAACGCCTGCGGA\" \"BoneMarrow_1.ATCAACAATAAACTGAAA\" \"BoneMarrow_1.ACGTTGAAAACGGGGCGA\" \"BoneMarrow_1.AAAGTTTTCATACATCCC\" \"BoneMarrow_1.ACAATAACTTATTAGAGA\" \"BoneMarrow_1.ATGCTTCAAAGTCTCCAT\" \"BoneMarrow_1.CACAAGCTTCTGTGTGCG\" \"BoneMarrow_1.TGTGCGGCGTCCGATCTT\" \"BoneMarrow_1.ATTCCAAAGTACCTGTGT\" \"BoneMarrow_1.CACAAGACGTTGCGTGGC\" \"BoneMarrow_1.TATTGTTTTAGGGCGTCC\" \"BoneMarrow_1.GAGGAGGGGTTTGTTGCC\" \"BoneMarrow_1.TGATCACTGAAAAGCGAG\" \"BoneMarrow_1.TCAAAGTGATCATTAACT\" \"BoneMarrow_1.CGTATTCGCTTGGCGTCC\" \"BoneMarrow_1.GCAGGATTAACTATCTCT\" \"BoneMarrow_1.CTCCATTATGTATTAACT\" \"BoneMarrow_1.ATCTCTTCGTAAAGGGTC\" \"BoneMarrow_1.TTCCGCTAAGGGCATGAT\" \"BoneMarrow_1.GTGGTATCGTAACGAGTA\" \"BoneMarrow_1.ACAATAGGTACAAAAGTT\" \"BoneMarrow_1.TCGTAAATTCCAGAGGAG\" \"BoneMarrow_1.GCGAATTATGTAGCAGGA\" \"BoneMarrow_1.GTCCCGGGGTTTCAACAA\" \"BoneMarrow_1.CTCGCATCGTAATGTCAC\" \"BoneMarrow_1.TAGTCGGGACATCCGACG\" \"BoneMarrow_1.ACACCCGTTGCCTAGAGA\" \"BoneMarrow_1.TCAAAGTGATCAGATCTT\" \"BoneMarrow_1.GAATTAGTAATGAAAGTT\" \"BoneMarrow_1.CATGATGGCTGCCGGCAG\" \"BoneMarrow_1.CGCACCCGTATTGCAGGA\" \"BoneMarrow_1.AGGACTTCGTAAAGTTTA\" \"BoneMarrow_1.CCGCTAGTAATGCTTCTG\" \"BoneMarrow_1.ATTCCATTTAGGTTGGAC\" \"BoneMarrow_1.AGTCGTGTAATGCACAAG\" \"BoneMarrow_1.AGGACTCACAAGGGCTGC\" \"BoneMarrow_1.GCCCTCGGACATACGAGC\" \"BoneMarrow_1.CACAAGAGTTTATGAAGC\" \"BoneMarrow_1.TAGTCGGCTGTGCAACAA\" \"BoneMarrow_1.CGAGTATGGATGTGTGCG\" \"BoneMarrow_1.GAGGAGACTTATTTGGAC\" \"BoneMarrow_1.TTGGACAGTTTAGAGGAG\" \"BoneMarrow_1.TTTAGGAGTTTATAGTCG\" \"BoneMarrow_1.CACAAGCCGACGGCTGTG\" \"BoneMarrow_1.CACAAGTGGATGCACAAG\" \"BoneMarrow_1.AAGCGGATGCTTCTGAAA\" \"BoneMarrow_1.CGAGTAAAAACGCAAAGT\" \"BoneMarrow_1.CATGATACAATAGCTGTG\" \"BoneMarrow_1.CTGTGTCCTAGAATGCTT\" \"BoneMarrow_1.ACGAGCGTATACGAGGAG\" \"BoneMarrow_1.TGATCATCTACCAAGTAC\" \"BoneMarrow_1.TGTCACGCTCAATCGGGT\" \"BoneMarrow_1.CTGAAAAAAACGCGGCAG\" \"BoneMarrow_1.GCAGGAGTGGTACGCTTG\" \"BoneMarrow_1.ACTTATGTCCCGGGGCGA\" \"BoneMarrow_1.CCGCTACGTATTACTTAT\" \"BoneMarrow_1.ATTTGCAGTCGTTGGATG\" \"BoneMarrow_1.TAGAGAATGGCGTGTGCG\" \"BoneMarrow_1.AACCTATGCAATGGTACA\" \"BoneMarrow_1.GCCCTCGAACGCCATCCC\" \"BoneMarrow_1.AACCTAGGGTTTGGCTGC\" \"BoneMarrow_1.ACACCCATCTCTATGCTT\" \"BoneMarrow_1.GCTGTGTGCGGAGGTACA\" \"BoneMarrow_1.AGGACTTTTAGGGACACT\" \"BoneMarrow_1.AGTTTACCTTTCCATCCC\" \"BoneMarrow_1.GCTCAAAAGTACATCTCT\" \"BoneMarrow_1.TCGTAATCGGGTAAAACG\" \"BoneMarrow_1.TTGGACATGCTTGAGGAG\" \"BoneMarrow_1.ACCTGAGCCCTCAGTTTA\" \"BoneMarrow_1.TCAAAGTGAAGCGCTGTG\" \"BoneMarrow_1.GAACGCGAGGAGTCTACC\" \"BoneMarrow_1.ACTTATACTTATCGGCAG\" \"BoneMarrow_1.CGTGGCGTCGGTGGACAT\" \"BoneMarrow_1.TGCGGAACAATAAAGTAC\" \"BoneMarrow_1.CCGACGTAGCATGGGCGA\" \"BoneMarrow_1.CCGCTAGTCCCGGCTCAA\" \"BoneMarrow_1.AAAACGTCACTTACAATA\" \"BoneMarrow_1.CTCCATTAGAGAAACGCC\" \"BoneMarrow_1.AACCTAACGTTGGCGTCC\" \"BoneMarrow_1.AGTTTAGGGTTTGGACAT\" \"BoneMarrow_1.ACCTGAAATAAAGAATTA\" \"BoneMarrow_1.AGTTTAAGTTTATCAAAG\" \"BoneMarrow_1.GTCGGTGTCGGTCCTTTC\" \"BoneMarrow_1.TGCAATTTAACTGCAGGA\" \"BoneMarrow_1.AGCGAGGCTGTGTGAAGC\" \"BoneMarrow_1.AGTCGTGCTCAACGTGGC\" \"BoneMarrow_1.GTCGGTGCTGTGCCTAGA\" \"BoneMarrow_1.CGGCAGGCGAATGTTGCC\" \"BoneMarrow_1.ATTTGCGCCTAGATGGCG\" \"BoneMarrow_1.ATGCTTAACCTACAACAA\" \"BoneMarrow_1.CTCCATGCAGGAACACCC\" \"BoneMarrow_1.GTGGTAGCTCAAGGCTGC\" \"BoneMarrow_1.GAGGAGAAAGTTAGATGG\" \"BoneMarrow_1.ACTTATCCAGACCTTCTG\" \"BoneMarrow_1.ATTTGCCGTGGCTCTACC\" \"BoneMarrow_1.GCAGGAGTTGCCGAATTA\" \"BoneMarrow_1.GGTACACTCGCATATGTA\" \"BoneMarrow_1.ACACCCGGTACAGAGGAG\" \"BoneMarrow_1.GTTGCCGTAATGAGATGG\" \"BoneMarrow_1.TGGATGAGCGAGGCGAAT\" \"BoneMarrow_1.CCAGACGTAATGCCGACG\" \"BoneMarrow_1.TAGCATAAAACGGCTGTG\" \"BoneMarrow_1.GTAATGCCGACGTTAACT\" \"BoneMarrow_1.ATACAGGTAATGTGTCAC\" \"BoneMarrow_1.GAACGCTATGTAGTAATG\" \"BoneMarrow_1.AGTCGTGTCCCGTCGTAA\" \"BoneMarrow_1.GGACATCACAAGCGCTTG\" \"BoneMarrow_1.CTCCATTCGTAAGCCCTC\" \"BoneMarrow_1.CGAGTAGTTGCCTAGTCG\" \"BoneMarrow_1.ATGCTTTGATCAATTCCA\" \"BoneMarrow_1.TGCGGACCAGACAGTCGT\" \"BoneMarrow_1.CAAAGTACGTTGGGACAT\" \"BoneMarrow_1.GGTACATGCAATCTGTGT\" \"BoneMarrow_1.CAACAAGAGGAGCCGACG\" \"BoneMarrow_1.GACACTATGGCGCGCACC\" \"BoneMarrow_1.CAACAATCTACCTTCCGC\" \"BoneMarrow_1.ATTCCAGCTCAAATGCTT\" \"BoneMarrow_1.ACGTTGGGGTTTCCTTTC\" \"BoneMarrow_1.AAGTACAAAACGAAGTAC\" \"BoneMarrow_1.TTCATAACGAGCGGCTGC\" \"BoneMarrow_1.GAATTACGTATTGTATAC\" \"BoneMarrow_1.GTCGGTCGCTTGTGCGGA\" \"BoneMarrow_1.TAGCATAACGCCCGTGGC\" \"BoneMarrow_1.TTAACTTGCAATCGAGTA\" \"BoneMarrow_1.TCGGGTGGGTTTGCAGGA\" \"BoneMarrow_1.ATGGCGGTAATGCATCCC\" \"BoneMarrow_1.CAAAGTCGAGTATTTAGG\" \"BoneMarrow_1.ATCAACTGCAATAAAACG\" \"BoneMarrow_1.ACAATATAGAGACACAAG\" \"BoneMarrow_1.TATTGTGCAGGACCGACG\" \"BoneMarrow_1.TAAGGGCCATCTTGCAAT\" \"BoneMarrow_1.TGCGGATGAAGCCGGCAG\" \"BoneMarrow_1.ATGGCGTTTAGGGAGATC\" \"BoneMarrow_1.TCAAAGGCCTAGTTTAGG\" \"BoneMarrow_1.ACGTTGATCAACGTTGCC\" \"BoneMarrow_1.AGCGAGAAAGTTCCGACG\" \"BoneMarrow_1.CTCCATCGCACCTCACTT\" \"BoneMarrow_1.CTCGCAATTCCACCGACG\" \"BoneMarrow_1.GAGGAGCACAAGCTCGCA\" \"BoneMarrow_1.GAGGAGCCATCTACTTAT\" \"BoneMarrow_1.GAGATCGACACTGAGATC\" \"BoneMarrow_1.CATCCCAGGGTCTCAAAG\" \"BoneMarrow_1.ATCAACGCGTCCGAATTA\" \"BoneMarrow_1.CGTATTAGGACTGTCCCG\" \"BoneMarrow_1.CGCTTGTGATCACTCGCA\" \"BoneMarrow_1.TGATCAGCTCAAATTCCA\" \"BoneMarrow_1.CACAAGGCGTCCTTGGAC\" \"BoneMarrow_1.TCGGGTGCCTAGGCAGGA\" \"BoneMarrow_1.GATCTTATTCCAACGTTG\" \"BoneMarrow_1.TGGATGGAGATCTAGTCG\" \"BoneMarrow_1.ACTTATTTGGACATACAG\" \"BoneMarrow_1.CGTATTCACAAGATCAAC\" \"BoneMarrow_1.ACCTGATCAAAGTGATCA\" \"BoneMarrow_1.AACGCCGGTACAAGTCGT\" \"BoneMarrow_1.CATGATGCTGTGCATCCC\" \"BoneMarrow_1.GTCGGTTGCAATTTCCGC\" \"BoneMarrow_1.GATCTTAACCTAGTATAC\" \"BoneMarrow_1.AGTTTATGATCAGCTCAA\" \"BoneMarrow_1.GTAATGCCGACGGATCTT\" \"BoneMarrow_1.TGATCACAAAGTACGTTG\" \"BoneMarrow_1.GGGCGAATGGCGAAAACG\" \"BoneMarrow_1.GGTACAGGGTTTCGTATT\" \"BoneMarrow_1.CGCACCCTGAAAGCAGGA\" \"BoneMarrow_1.CCTAGAGGACATGAACGC\" \"BoneMarrow_1.TATGTATGCGGATCACTT\" \"BoneMarrow_1.GTTGCCGCTCAAGTATAC\" \"BoneMarrow_1.TCACTTTGATCAATACAG\" \"BoneMarrow_1.AGGACTGAACGCCTGAAA\" \"BoneMarrow_1.GACACTCCGCTACTGTGT\" \"BoneMarrow_1.ATGCTTCAAAGTCATGAT\" \"BoneMarrow_1.AAGTACATCAACAAGCGG\" \"BoneMarrow_1.TACTTCTCAAAGTTGGAC\" \"BoneMarrow_1.CTGTGTCGCTTGCTGTGT\" \"BoneMarrow_1.CATCCCCGGCAGCTGTGT\" \"BoneMarrow_1.ATCTCTGGTACAGTTGCC\" \"BoneMarrow_1.AAAACGTTTAGGTTGGAC\" \"BoneMarrow_1.CCATCTAACGCCCGGCAG\" \"BoneMarrow_1.GCTGTGAGATGGAGGGTC\" \"BoneMarrow_1.ATCTCTACGAGCTGTGCG\" \"BoneMarrow_1.TGCAATGTAATGTGAAGC\" \"BoneMarrow_1.CGCACCGGTACAACGAGC\" \"BoneMarrow_1.AGCGAGGACACTTATTGT\" \"BoneMarrow_1.GGGCGAATCTCTAAAGTT\" \"BoneMarrow_1.CATGATGCTCAAGTAATG\" \"BoneMarrow_1.GTATACCCGCTACATGAT\" \"BoneMarrow_1.CGTATTTCTACCCGTATT\" \"BoneMarrow_1.CTCGCAACGAGCCCGACG\" \"BoneMarrow_1.CTCCATACCTGACTGAAA\" \"BoneMarrow_1.AAGCGGGCGAATAAAACG\" \"BoneMarrow_1.GCCCTCCTGTGTTGCGGA\" \"BoneMarrow_1.TCGGGTCCTAGAGTCGGT\" \"BoneMarrow_1.CCGCTAGGCTGCGCCCTC\" \"BoneMarrow_1.ATGGCGCACAAGCAACAA\" \"BoneMarrow_1.CCGCTAGACACTCACAAG\" \"BoneMarrow_1.ATTTGCGACACTCTGTGT\" \"BoneMarrow_1.TAGTCGGCTGTGTAGCAT\" \"BoneMarrow_1.ACGAGCACGTTGGAATTA\" \"BoneMarrow_1.CTGTGTCGGCAGCCGACG\" \"BoneMarrow_1.ACCTGACGAGTACATGAT\" \"BoneMarrow_1.TGATCAGTCGGTGGACAT\" \"BoneMarrow_1.TCGGGTATTCCACAACAA\" \"BoneMarrow_1.ATGGCGAAGCGGACGAGC\" \"BoneMarrow_1.AACGCCCCTTTCTATGTA\" \"BoneMarrow_1.GTCCCGCGTGGCCGAGTA\" \"BoneMarrow_1.TAGTCGGGCTGCCCTAGA\" \"BoneMarrow_1.CTCCATCTCGCACGAGTA\" \"BoneMarrow_1.GCCTAGATGGCGCAACAA\" \"BoneMarrow_1.GACACTCGCACCCAAAGT\" \"BoneMarrow_1.ATTTGCCGTATTCTGTGT\" \"BoneMarrow_1.GCCCTCTTAACTCCAGAC\" \"BoneMarrow_1.TAGTCGCCGACGGACACT\" \"BoneMarrow_1.TTGGACCGGCAGGCAGGA\" \"BoneMarrow_1.TGGATGTAGAGAATTTGC\" \"BoneMarrow_1.CTGAAATCGTAATAAGGG\" \"BoneMarrow_1.ACTTATTGGATGGCAGGA\" \"BoneMarrow_1.GCGTCCGGGTTTCCTAGA\" \"BoneMarrow_1.GCCTAGCTGAAAGCCTAG\" \"BoneMarrow_1.AGGGTCGCCCTCGCGAAT\" \"BoneMarrow_1.AACCTACACAAGCGAGTA\" \"BoneMarrow_1.CCGCTATCGTAAGTCCCG\" \"BoneMarrow_1.AACGCCCGGCAGGCTGTG\" \"BoneMarrow_1.ACACCCTTGGACCGCTTG\" \"BoneMarrow_1.AACGCCTGATCAGCGAAT\" \"BoneMarrow_1.ACGAGCTAGAGAGGACAT\" \"BoneMarrow_1.GTATACGGACATGTGGTA\" \"BoneMarrow_1.CCTAGATAAGGGTAGTCG\" \"BoneMarrow_1.AAGCGGCCATCTGAACGC\" \"BoneMarrow_1.AGGACTCTGTGTCTGTGT\" \"BoneMarrow_1.AAGCGGGAGATCGGGCGA\" \"BoneMarrow_1.AGGACTCTGTGTGACACT\" \"BoneMarrow_1.ACAATAGGCTGCGAGGAG\" \"BoneMarrow_1.CCGACGAAGTACGAATTA\" \"BoneMarrow_1.AAGCGGGGACATGCGTCC\" \"BoneMarrow_1.CATCCCCGGCAGAAGTAC\" \"BoneMarrow_1.CTCGCAAGTTTAACGAGC\" \"BoneMarrow_1.AAGCGGATGCTTGAGGAG\" \"BoneMarrow_1.CGAGTACAAAGTGTCGGT\" \"BoneMarrow_1.CTGTGTGCCTAGGAGATC\" \"BoneMarrow_1.CAAAGTGCCTAGGAGATC\" \"BoneMarrow_1.CAACAACGCACCGTATAC\" \"BoneMarrow_1.CTGTGTACGTTGGTATAC\" \"BoneMarrow_1.GTCCCGAGTTTAAGGGTC\" \"BoneMarrow_1.GCAGGAGAGATCACCTGA\" \"BoneMarrow_1.CTCGCAGCCTAGGAGATC\" \"BoneMarrow_1.TCGGGTCTCCATGGGCGA\" \"BoneMarrow_1.ACCTGACCGACGAAAGTT\" \"BoneMarrow_1.CTCGCAGCCCTCAGTCGT\" \"BoneMarrow_1.AGCGAGCTCGCAAAGCGG\" \"BoneMarrow_1.TCAAAGACGAGCCAACAA\" \"BoneMarrow_1.AGGACTCGGCAGAAGTAC\" \"BoneMarrow_1.AACCTAGCCTAGGAGATC\" \"BoneMarrow_1.AAGCGGCGAGTAACGTTG\" \"BoneMarrow_1.CTCGCAGGTACACCTTTC\" \"BoneMarrow_1.AACCTACGCACCGTATAC\" \"BoneMarrow_1.AAGCGGGCCTAGGAGATC\" \"BoneMarrow_1.AAGCGGCTGAAAGTAATG\" \"BoneMarrow_1.AAGCGGGCCTAGTAAGGG\" \"BoneMarrow_1.CCGCTACGCACCGTATAC\" \"BoneMarrow_1.CCGACGTCGGGTGCGTCC\" \"BoneMarrow_1.CTCGCACGAGTACACAAG\" \"BoneMarrow_1.CTCGCAGCTGTGGCTCAA\" \"BoneMarrow_1.GGGACTATCTCTACCTGA\" \"BoneMarrow_1.ACAATACGCACCGTATAC\" \"BoneMarrow_1.ACAATACAACAACAAAGT\" \"BoneMarrow_1.GGACATGGGGTTACACCC\" \"BoneMarrow_1.TAAGGGCGGCAGCATGAT\" \"BoneMarrow_1.CCGACGGGTACATAGTAG\" \"BoneMarrow_1.GGACATGGGATTACACCC\" \"BoneMarrow_1.TAGAGACAACAACAAAGG\" \"BoneMarrow_1.TGATCACGTATTTCTACA\" \"BoneMarrow_1.ACGACGGGTACATAGTCG\" \"BoneMarrow_1.AAGCGGAGGACTGGGGTA\"')\n",
      "列示例（应该是基因）: Index([], dtype='object')\n"
     ]
    }
   ],
   "source": [
    "import pandas as pd\n",
    "\n",
    "df = pd.read_csv(\"/root/Desktop/my_pan/workspace/Data/raw_data/Marrow_raw/BoneMarrow1_dge.txt.gz\", sep=\"\\t\", index_col=0)\n",
    "print(\"矩阵形状：\", df.shape)\n",
    "print(\"行示例（应该是细胞）:\", df.index[:5])\n",
    "print(\"列示例（应该是基因）:\", df.columns[:5])\n"
   ]
  }
 ],
 "metadata": {
  "kernelspec": {
   "display_name": "scatlasvae",
   "language": "python",
   "name": "python3"
  },
  "language_info": {
   "codemirror_mode": {
    "name": "ipython",
    "version": 3
   },
   "file_extension": ".py",
   "mimetype": "text/x-python",
   "name": "python",
   "nbconvert_exporter": "python",
   "pygments_lexer": "ipython3",
   "version": "3.8.20"
  }
 },
 "nbformat": 4,
 "nbformat_minor": 5
}
