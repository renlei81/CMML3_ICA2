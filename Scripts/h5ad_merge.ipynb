{
 "cells": [
  {
   "cell_type": "code",
   "execution_count": 2,
   "id": "bf8344c9",
   "metadata": {},
   "outputs": [
    {
     "name": "stdout",
     "output_type": "stream",
     "text": [
      "✅ 合并完成，输出：/root/Desktop/my_pan/workspace/Data/lung_h5ad_output/merged_lung_batches.h5ad\n"
     ]
    },
    {
     "name": "stderr",
     "output_type": "stream",
     "text": [
      "/root/miniconda3/envs/scatlasvae/lib/python3.8/site-packages/anndata/_core/anndata.py:1785: FutureWarning: X.dtype being converted to np.float32 from float64. In the next version of anndata (0.9) conversion will not be automatic. Pass dtype explicitly to avoid this warning. Pass `AnnData(X, dtype=X.dtype, ...)` to get the future behavour.\n",
      "  [AnnData(sparse.csr_matrix(a.shape), obs=a.obs) for a in all_adatas],\n",
      "/root/miniconda3/envs/scatlasvae/lib/python3.8/site-packages/anndata/_core/anndata.py:798: UserWarning: \n",
      "AnnData expects .var.index to contain strings, but got values like:\n",
      "    []\n",
      "\n",
      "    Inferred to be: empty\n",
      "\n",
      "  value_idx = self._prep_dim_index(value.index, attr)\n",
      "/root/miniconda3/envs/scatlasvae/lib/python3.8/site-packages/anndata/_core/anndata.py:798: UserWarning: \n",
      "AnnData expects .var.index to contain strings, but got values like:\n",
      "    []\n",
      "\n",
      "    Inferred to be: empty\n",
      "\n",
      "  value_idx = self._prep_dim_index(value.index, attr)\n"
     ]
    }
   ],
   "source": [
    "import scanpy as sc\n",
    "import glob\n",
    "import os\n",
    "\n",
    "# 1. 指定输入文件夹\n",
    "input_dir = \"/root/Desktop/my_pan/workspace/Data/lung_h5ad_output\"\n",
    "\n",
    "# 2. 搜索所有 .h5ad 文件\n",
    "h5ad_paths = sorted(glob.glob(os.path.join(input_dir, \"*.h5ad\")))\n",
    "\n",
    "# 3. 读取并收集 AnnData 对象\n",
    "adatas = [sc.read_h5ad(p) for p in h5ad_paths]\n",
    "\n",
    "# 4. 提取批次名称（文件名去掉后缀）\n",
    "batch_names = [os.path.splitext(os.path.basename(p))[0] for p in h5ad_paths]\n",
    "\n",
    "# 5. 合并\n",
    "adata_merged = adatas[0].concatenate(\n",
    "    adatas[1:],\n",
    "    batch_key=\"batch\",\n",
    "    batch_categories=batch_names\n",
    ")\n",
    "\n",
    "# 6. 保存为新的 h5ad\n",
    "out_path = os.path.join(input_dir, \"merged_lung_batches.h5ad\")\n",
    "adata_merged.write(out_path)\n",
    "\n",
    "print(f\"✅ 合并完成，输出：{out_path}\")\n"
   ]
  },
  {
   "cell_type": "code",
   "execution_count": 6,
   "id": "095532f7",
   "metadata": {},
   "outputs": [
    {
     "name": "stdout",
     "output_type": "stream",
     "text": [
      "AnnData object with n_obs × n_vars = 161211 × 9116\n",
      "    obs: 'batch', 'original_batch'\n",
      "Index(['00R_AC107638.2', '0610005C13Rik', '0610007P14Rik', '0610009B22Rik',\n",
      "       '0610009E02Rik'],\n",
      "      dtype='object')\n",
      "Index(['Lung_1.AAAACGAGATGGAGGACT', 'Lung_1.AAAACGAGTTTACGTGGC',\n",
      "       'Lung_1.AAAACGATACAGTCACTT', 'Lung_1.AAAACGATACAGTTTAGG',\n",
      "       'Lung_1.AAAACGATCTCTCATCCC'],\n",
      "      dtype='object')\n"
     ]
    },
    {
     "name": "stderr",
     "output_type": "stream",
     "text": [
      "/root/miniconda3/envs/scatlasvae/lib/python3.8/site-packages/anndata/_core/anndata.py:1828: UserWarning: Observation names are not unique. To make them unique, call `.obs_names_make_unique`.\n",
      "  utils.warn_names_duplicates(\"obs\")\n"
     ]
    }
   ],
   "source": [
    "import scanpy as sc\n",
    "adata = sc.read_h5ad(\"/root/Desktop/my_pan/workspace/Data/lung_h5ad_output/merged_lung_batches.h5ad\")\n",
    "print(adata)\n",
    "\n",
    "print(adata.obs_names[:5])   # 打印细胞名（行索引）\n",
    "print(adata.var_names[:5])  "
   ]
  },
  {
   "cell_type": "code",
   "execution_count": 5,
   "id": "e3888fe9",
   "metadata": {},
   "outputs": [
    {
     "name": "stderr",
     "output_type": "stream",
     "text": [
      "/root/miniconda3/envs/scatlasvae/lib/python3.8/site-packages/anndata/_core/anndata.py:1828: UserWarning: Observation names are not unique. To make them unique, call `.obs_names_make_unique`.\n",
      "  utils.warn_names_duplicates(\"obs\")\n",
      "/root/miniconda3/envs/scatlasvae/lib/python3.8/site-packages/anndata/_core/anndata.py:1785: FutureWarning: X.dtype being converted to np.float32 from float64. In the next version of anndata (0.9) conversion will not be automatic. Pass dtype explicitly to avoid this warning. Pass `AnnData(X, dtype=X.dtype, ...)` to get the future behavour.\n",
      "  [AnnData(sparse.csr_matrix(a.shape), obs=a.obs) for a in all_adatas],\n",
      "/root/miniconda3/envs/scatlasvae/lib/python3.8/site-packages/anndata/_core/anndata.py:1828: UserWarning: Observation names are not unique. To make them unique, call `.obs_names_make_unique`.\n",
      "  utils.warn_names_duplicates(\"obs\")\n"
     ]
    },
    {
     "name": "stdout",
     "output_type": "stream",
     "text": [
      "✅ 合并完成，输出文件： /root/Desktop/my_pan/workspace/Data/lung_h5ad_output/merged_lung_batches.h5ad\n"
     ]
    }
   ],
   "source": [
    "import scanpy as sc\n",
    "import glob\n",
    "import os\n",
    "\n",
    "# 输入目录\n",
    "input_dir = \"/root/Desktop/my_pan/workspace/Data/lung_h5ad_output\"\n",
    "\n",
    "# 找到所有 .h5ad 文件\n",
    "h5ad_paths = sorted(glob.glob(os.path.join(input_dir, \"*.h5ad\")))\n",
    "\n",
    "# 读取并打上 batch 标签\n",
    "adatas = []\n",
    "for i, fp in enumerate(h5ad_paths, start=1):\n",
    "    ad = sc.read_h5ad(fp)\n",
    "    batch_name = f\"lung_batch{i}\"\n",
    "    ad.obs[\"batch\"] = batch_name\n",
    "    ad.obs[\"original_batch\"] = batch_name\n",
    "    adatas.append(ad)\n",
    "\n",
    "# 合并所有\n",
    "adata_merged = adatas[0].concatenate(\n",
    "    adatas[1:],\n",
    "    batch_key=\"batch\",\n",
    "    batch_categories=[f\"lung_batch{i}\" for i in range(1, len(adatas)+1)],\n",
    "    index_unique=None,\n",
    "    join=\"outer\"\n",
    ")\n",
    "\n",
    "# 缺失值填 0\n",
    "adata_merged.X = adata_merged.X.toarray() if hasattr(adata_merged.X, \"toarray\") else adata_merged.X\n",
    "adata_merged.X[adata_merged.X != adata_merged.X] = 0  # NaN -> 0\n",
    "\n",
    "# 保存输出\n",
    "out_path = os.path.join(input_dir, \"merged_lung_batches.h5ad\")\n",
    "adata_merged.write(out_path)\n",
    "print(\"✅ 合并完成，输出文件：\", out_path)"
   ]
  }
 ],
 "metadata": {
  "kernelspec": {
   "display_name": "scatlasvae",
   "language": "python",
   "name": "python3"
  },
  "language_info": {
   "codemirror_mode": {
    "name": "ipython",
    "version": 3
   },
   "file_extension": ".py",
   "mimetype": "text/x-python",
   "name": "python",
   "nbconvert_exporter": "python",
   "pygments_lexer": "ipython3",
   "version": "3.8.20"
  }
 },
 "nbformat": 4,
 "nbformat_minor": 5
}
