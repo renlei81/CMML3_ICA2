{
 "cells": [
  {
   "cell_type": "code",
   "execution_count": 4,
   "id": "8656000c",
   "metadata": {},
   "outputs": [
    {
     "name": "stdout",
     "output_type": "stream",
     "text": [
      "📋 obs columns: ['batch', 'leiden', 'celltype']\n",
      "📐 obsm keys: KeysView(AxisArrays with keys: X_scatlasvae, X_umap)\n",
      "                                batch leiden celltype\n",
      "BoneMarrow_1.AAAACGCAAAGTATTCCA   nan     22       28\n",
      "BoneMarrow_1.AAAACGCATCCCACGTTG   nan     22       28\n",
      "BoneMarrow_1.AAAACGTCACTTACAATA   nan     22       28\n",
      "BoneMarrow_1.AAAACGTTGGACGTGGTA   nan     22       28\n",
      "BoneMarrow_1.AAAACGTTTAGGTTGGAC   nan     22       28\n",
      "✅ 已从细胞名前缀提取 batch\n"
     ]
    }
   ],
   "source": [
    "import scanpy as sc\n",
    "\n",
    "adata = sc.read_h5ad(\"/root/Desktop/my_pan/workspace/Data/h5ad_output/new_merged_bonemarrow_batches_scatlasvae_full_with_celltype.h5ad\")\n",
    "\n",
    "print(\"📋 obs columns:\", adata.obs.columns.tolist())\n",
    "print(\"📐 obsm keys:\", adata.obsm.keys())\n",
    "print(adata.obs.head())\n",
    "adata.obs[\"batch\"] = adata.obs_names.str.split(\".\").str[0]\n",
    "print(\"✅ 已从细胞名前缀提取 batch\")\n",
    "adata.write(\"/root/Desktop/my_pan/workspace/Data/h5ad_output/newb_merged_bonemarrow_batches_scatlasvae_full_with_celltype.h5ad\")"
   ]
  },
  {
   "cell_type": "code",
   "execution_count": 5,
   "id": "084133a1",
   "metadata": {},
   "outputs": [
    {
     "name": "stdout",
     "output_type": "stream",
     "text": [
      "                                        batch leiden celltype\n",
      "BoneMarrow_1.AAAACGCAAAGTATTCCA  BoneMarrow_1     22       28\n",
      "BoneMarrow_1.AAAACGCATCCCACGTTG  BoneMarrow_1     22       28\n",
      "BoneMarrow_1.AAAACGTCACTTACAATA  BoneMarrow_1     22       28\n",
      "BoneMarrow_1.AAAACGTTGGACGTGGTA  BoneMarrow_1     22       28\n",
      "BoneMarrow_1.AAAACGTTTAGGTTGGAC  BoneMarrow_1     22       28\n"
     ]
    }
   ],
   "source": [
    "adata1 = sc.read_h5ad(\"/root/Desktop/my_pan/workspace/Data/h5ad_output/newb_merged_bonemarrow_batches_scatlasvae_full_with_celltype.h5ad\")\n",
    "print(adata1.obs.head())"
   ]
  }
 ],
 "metadata": {
  "kernelspec": {
   "display_name": "scatlasvae",
   "language": "python",
   "name": "python3"
  },
  "language_info": {
   "codemirror_mode": {
    "name": "ipython",
    "version": 3
   },
   "file_extension": ".py",
   "mimetype": "text/x-python",
   "name": "python",
   "nbconvert_exporter": "python",
   "pygments_lexer": "ipython3",
   "version": "3.8.20"
  }
 },
 "nbformat": 4,
 "nbformat_minor": 5
}
